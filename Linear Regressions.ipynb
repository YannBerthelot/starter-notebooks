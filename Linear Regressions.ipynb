{
 "cells": [
  {
   "cell_type": "code",
   "execution_count": 31,
   "metadata": {},
   "outputs": [],
   "source": [
    "import os\n",
    "import pandas as pd\n",
    "import numpy as np\n",
    "import seaborn as sns \n",
    "\n",
    "\n",
    "from sklearn.neural_network import MLPRegressor\n",
    "from sklearn.linear_model import LogisticRegression,Ridge,Lasso,ElasticNet\n",
    "from sklearn.metrics import mean_squared_error,r2_score\n",
    "from sklearn.model_selection import GridSearchCV,KFold,train_test_split\n",
    "from sklearn.datasets import load_diabetes,load_boston\n",
    "from lightgbm import LGBMRegressor\n",
    "\n",
    "import matplotlib.pyplot as plt\n",
    "from graph_utils import plot_multiple,plot_xy\n",
    "\n",
    "%matplotlib inline\n"
   ]
  },
  {
   "cell_type": "markdown",
   "metadata": {},
   "source": [
    "# DATA PREPARATION"
   ]
  },
  {
   "cell_type": "code",
   "execution_count": 35,
   "metadata": {},
   "outputs": [
    {
     "data": {
      "text/plain": [
       "<matplotlib.axes._subplots.AxesSubplot at 0x11f72f650>"
      ]
     },
     "execution_count": 35,
     "metadata": {},
     "output_type": "execute_result"
    },
    {
     "data": {
      "image/png": "[encoded data removed]",
      "text/plain": [
       "<Figure size 432x288 with 2 Axes>"
      ]
     },
     "metadata": {
      "needs_background": "light"
     },
     "output_type": "display_data"
    }
   ],
   "source": [
    "df = pd.DataFrame(load_diabetes().data, columns=load_diabetes().feature_names)\n",
    "df[\"target\"] = load_diabetes().target\n",
    "\n",
    "correlated_features = abs(df.corr()[\"target\"]).sort_values(ascending=False)\n",
    "\n",
    "correlated_features = correlated_features[correlated_features>0.5]\n",
    "\n",
    "df = df[correlated_features.keys()]\n",
    "\n",
    "sns.heatmap(df.corr(),annot=True)"
   ]
  },
  {
   "cell_type": "code",
   "execution_count": 36,
   "metadata": {},
   "outputs": [
    {
     "data": {
      "text/html": [
       "<div>\n",
       "<style scoped>\n",
       "    .dataframe tbody tr th:only-of-type {\n",
       "        vertical-align: middle;\n",
       "    }\n",
       "\n",
       "    .dataframe tbody tr th {\n",
       "        vertical-align: top;\n",
       "    }\n",
       "\n",
       "    .dataframe thead th {\n",
       "        text-align: right;\n",
       "    }\n",
       "</style>\n",
       "<table border=\"1\" class=\"dataframe\">\n",
       "  <thead>\n",
       "    <tr style=\"text-align: right;\">\n",
       "      <th></th>\n",
       "      <th>target</th>\n",
       "      <th>bmi</th>\n",
       "      <th>s5</th>\n",
       "    </tr>\n",
       "  </thead>\n",
       "  <tbody>\n",
       "    <tr>\n",
       "      <th>0</th>\n",
       "      <td>151.0</td>\n",
       "      <td>0.061696</td>\n",
       "      <td>0.019908</td>\n",
       "    </tr>\n",
       "    <tr>\n",
       "      <th>1</th>\n",
       "      <td>75.0</td>\n",
       "      <td>-0.051474</td>\n",
       "      <td>-0.068330</td>\n",
       "    </tr>\n",
       "    <tr>\n",
       "      <th>2</th>\n",
       "      <td>141.0</td>\n",
       "      <td>0.044451</td>\n",
       "      <td>0.002864</td>\n",
       "    </tr>\n",
       "    <tr>\n",
       "      <th>3</th>\n",
       "      <td>206.0</td>\n",
       "      <td>-0.011595</td>\n",
       "      <td>0.022692</td>\n",
       "    </tr>\n",
       "    <tr>\n",
       "      <th>4</th>\n",
       "      <td>135.0</td>\n",
       "      <td>-0.036385</td>\n",
       "      <td>-0.031991</td>\n",
       "    </tr>\n",
       "    <tr>\n",
       "      <th>...</th>\n",
       "      <td>...</td>\n",
       "      <td>...</td>\n",
       "      <td>...</td>\n",
       "    </tr>\n",
       "    <tr>\n",
       "      <th>437</th>\n",
       "      <td>178.0</td>\n",
       "      <td>0.019662</td>\n",
       "      <td>0.031193</td>\n",
       "    </tr>\n",
       "    <tr>\n",
       "      <th>438</th>\n",
       "      <td>104.0</td>\n",
       "      <td>-0.015906</td>\n",
       "      <td>-0.018118</td>\n",
       "    </tr>\n",
       "    <tr>\n",
       "      <th>439</th>\n",
       "      <td>132.0</td>\n",
       "      <td>-0.015906</td>\n",
       "      <td>-0.046879</td>\n",
       "    </tr>\n",
       "    <tr>\n",
       "      <th>440</th>\n",
       "      <td>220.0</td>\n",
       "      <td>0.039062</td>\n",
       "      <td>0.044528</td>\n",
       "    </tr>\n",
       "    <tr>\n",
       "      <th>441</th>\n",
       "      <td>57.0</td>\n",
       "      <td>-0.073030</td>\n",
       "      <td>-0.004220</td>\n",
       "    </tr>\n",
       "  </tbody>\n",
       "</table>\n",
       "<p>442 rows × 3 columns</p>\n",
       "</div>"
      ],
      "text/plain": [
       "     target       bmi        s5\n",
       "0     151.0  0.061696  0.019908\n",
       "1      75.0 -0.051474 -0.068330\n",
       "2     141.0  0.044451  0.002864\n",
       "3     206.0 -0.011595  0.022692\n",
       "4     135.0 -0.036385 -0.031991\n",
       "..      ...       ...       ...\n",
       "437   178.0  0.019662  0.031193\n",
       "438   104.0 -0.015906 -0.018118\n",
       "439   132.0 -0.015906 -0.046879\n",
       "440   220.0  0.039062  0.044528\n",
       "441    57.0 -0.073030 -0.004220\n",
       "\n",
       "[442 rows x 3 columns]"
      ]
     },
     "execution_count": 36,
     "metadata": {},
     "output_type": "execute_result"
    }
   ],
   "source": [
    "df"
   ]
  },
  {
   "cell_type": "code",
   "execution_count": 37,
   "metadata": {},
   "outputs": [],
   "source": [
    "file_path = None\n",
    "\n",
    "if not(file_path):\n",
    "    X = np.array(df.drop('target',axis=1))\n",
    "    y = np.array(df[\"target\"])\n",
    "else:\n",
    "    df = pd.read_csv(file_path,keep_default_na=False,na_values=\"\").drop(\"Unnamed: 0\",axis=1)"
   ]
  },
  {
   "cell_type": "markdown",
   "metadata": {},
   "source": [
    "df = pd.DataFrame(X)\n",
    "\n",
    "for i in range(len(df.columns)-1):\n",
    "    name = str(df.columns[i])+\"_x_\"+str(df.columns[i+1])\n",
    "    df[name] = df[df.columns[i]] * df[df.columns[i+1]]\n",
    "\n",
    "X = np.array(df)"
   ]
  },
  {
   "cell_type": "code",
   "execution_count": 39,
   "metadata": {},
   "outputs": [
    {
     "name": "stdout",
     "output_type": "stream",
     "text": [
      "Train set size 88 Test set size 354\n"
     ]
    }
   ],
   "source": [
    "X_train, X_test, y_train, y_test = train_test_split(X, y, test_size=0.8, random_state=31)\n",
    "print('Train set size',X_train.shape[0],'Test set size',X_test.shape[0])"
   ]
  },
  {
   "cell_type": "code",
   "execution_count": 40,
   "metadata": {},
   "outputs": [],
   "source": [
    "def standardize(df,df_ref):\n",
    "    return (df - df_ref.mean())/df_ref.std(ddof=1)\n",
    "\n",
    "def destandardize(df,df_ref):\n",
    "    return (df * df_ref.std(ddof=1)) + df_ref.mean()\n",
    "\n",
    "X_train_t = np.transpose(X_train.copy())\n",
    "X_test_t = np.transpose(X_test.copy())\n",
    "\n",
    "for i,col in enumerate(X_train_t) :\n",
    "    X_test_t[i] = standardize(X_test_t[i], col)\n",
    "    X_train_t[i] = standardize(col, col)\n",
    "    \n",
    "X_train_modified = np.transpose(X_train_t)\n",
    "X_test_modified = np.transpose(X_test_t)\n",
    "\n",
    "y_train_modified = standardize(y_train,y_train)\n",
    "y_test_modified = standardize(y_test,y_train)"
   ]
  },
  {
   "cell_type": "markdown",
   "metadata": {},
   "source": [
    "# REGRESSIONS"
   ]
  },
  {
   "cell_type": "code",
   "execution_count": 41,
   "metadata": {},
   "outputs": [],
   "source": [
    "def train_model(model,X_train,y_train,X_test,y_test,GS=False):\n",
    "    reg = model.fit(np.array(X_train), y_train)\n",
    "    if GS:\n",
    "        print(model.best_params_)\n",
    "    for i in range(X_test.shape[0]):\n",
    "        y_hat_test = reg.predict(np.array(X_test))\n",
    "        y_hat_train = reg.predict(np.array(X_train))\n",
    "    return y_hat_test,y_hat_train\n",
    "\n",
    "def run_models(X_train,y_train,X_test,y_test,models,GS=False,y_hat=None,y_hat_train=None):\n",
    "    if not(y_hat):\n",
    "        y_hat = {}\n",
    "    if not(y_hat_train):\n",
    "        y_hat_train = {}\n",
    "    for model_name in models.keys():\n",
    "        y_hat[model_name],y_hat_train[model_name] = train_model(models[model_name],X_train,y_train,X_test,y_test,GS=GS)  \n",
    "\n",
    "    return y_hat,y_hat_train\n",
    "\n",
    "def compute_mse(y_test,y_hat,dict_mse=None):\n",
    "    if not(dict_mse):\n",
    "        dict_mse = {}\n",
    "    for model_name in models.keys():\n",
    "        dict_mse[model_name] = r2_score(np.array(y_test).reshape(-1,1),np.array(y_hat[model_name]))\n",
    "        \n",
    "    return dict_mse"
   ]
  },
  {
   "cell_type": "code",
   "execution_count": 42,
   "metadata": {},
   "outputs": [
    {
     "name": "stderr",
     "output_type": "stream",
     "text": [
      "/usr/local/lib/python3.7/site-packages/sklearn/neural_network/_multilayer_perceptron.py:571: ConvergenceWarning: Stochastic Optimizer: Maximum iterations (200) reached and the optimization hasn't converged yet.\n",
      "  % self.max_iter, ConvergenceWarning)\n"
     ]
    }
   ],
   "source": [
    "models = {\"Logisitc\":LogisticRegression(),\n",
    "          \"Ridge\":Ridge(),\n",
    "          \"Lasso\":Lasso(),\n",
    "          \"Elastic Net\":ElasticNet(),\n",
    "          \"LGBM\":LGBMRegressor(n_estimators=2000),\n",
    "          \"MLP\":MLPRegressor()}\n",
    "\n",
    "y_hat,y_hat_train = run_models(X_train,y_train,X_test,y_test,models)\n",
    "\n",
    "\n",
    "dict_mse=compute_mse(y_test,y_hat)\n",
    "dict_mse_train=compute_mse(y_train,y_hat_train)\n",
    "\n",
    "y_hat_modified,y_hat_modified_train = run_models(X_train_modified,y_train_modified,X_test_modified,y_test_modified,models)\n",
    "for model_name in models.keys():\n",
    "    y_hat_modified[model_name] = destandardize(y_hat_modified[model_name],y_train)\n",
    "    y_hat_modified_train[model_name] = destandardize(y_hat_modified_train[model_name],y_train)\n",
    "dict_mse_modified = compute_mse(y_test,y_hat_modified)\n",
    "dict_mse_modified_train = compute_mse(y_train,y_hat_modified_train)\n",
    "\n"
   ]
  },
  {
   "cell_type": "code",
   "execution_count": 43,
   "metadata": {},
   "outputs": [
    {
     "data": {
      "text/plain": [
       "{'Linear': 0.3539809821660558,\n",
       " 'Ridge': 0.12867933732442993,\n",
       " 'Lasso': 0.23230622017471436,\n",
       " 'Elastic Net': 0.002874041105306535,\n",
       " 'LGBM': 0.6507521345474712,\n",
       " 'MLP': -5.296143250378522}"
      ]
     },
     "execution_count": 43,
     "metadata": {},
     "output_type": "execute_result"
    }
   ],
   "source": [
    "dict_mse_train"
   ]
  },
  {
   "cell_type": "code",
   "execution_count": 44,
   "metadata": {
    "scrolled": true
   },
   "outputs": [
    {
     "data": {
      "text/plain": [
       "{'Linear': 0.43783846604993815,\n",
       " 'Ridge': 0.05045534620718206,\n",
       " 'Lasso': 0.1650382996931774,\n",
       " 'Elastic Net': -0.13442769106097674,\n",
       " 'LGBM': 0.08827183154462281,\n",
       " 'MLP': -3.4458423524018453}"
      ]
     },
     "execution_count": 44,
     "metadata": {},
     "output_type": "execute_result"
    }
   ],
   "source": [
    "dict_mse"
   ]
  },
  {
   "cell_type": "code",
   "execution_count": 45,
   "metadata": {},
   "outputs": [
    {
     "name": "stdout",
     "output_type": "stream",
     "text": [
      "Linear\n"
     ]
    },
    {
     "data": {
      "image/png": "[encoded data removed]",
      "text/plain": [
       "<Figure size 432x288 with 1 Axes>"
      ]
     },
     "metadata": {
      "needs_background": "light"
     },
     "output_type": "display_data"
    }
   ],
   "source": [
    "best_model = max(dict_mse, key=dict_mse.get)\n",
    "print(best_model)\n",
    "\n",
    "Series = [y_test,y_hat[best_model]]\n",
    "xlabel = \"Test Values\"\n",
    "ylabel = \"Best Prediction\"\n",
    "title = \"Prediction vs Test values\"\n",
    "plot_xy(Series, xlabel, ylabel, title,kind=\"Scatter\")"
   ]
  },
  {
   "cell_type": "code",
   "execution_count": 46,
   "metadata": {},
   "outputs": [
    {
     "data": {
      "text/plain": [
       "{'Linear': 0.3539809821660558,\n",
       " 'Ridge': 0.35395015731534585,\n",
       " 'Lasso': 0.0,\n",
       " 'Elastic Net': 0.0361915403982036,\n",
       " 'LGBM': 0.654329970439073,\n",
       " 'MLP': 0.4046467738356565}"
      ]
     },
     "execution_count": 46,
     "metadata": {},
     "output_type": "execute_result"
    }
   ],
   "source": [
    "dict_mse_modified_train"
   ]
  },
  {
   "cell_type": "code",
   "execution_count": 47,
   "metadata": {},
   "outputs": [
    {
     "data": {
      "text/plain": [
       "{'Linear': 0.4378384660499379,\n",
       " 'Ridge': 0.43679514995041724,\n",
       " 'Lasso': -0.13849913663084612,\n",
       " 'Elastic Net': -0.09359841909776634,\n",
       " 'LGBM': 0.1323768429844172,\n",
       " 'MLP': 0.44051886616613023}"
      ]
     },
     "execution_count": 47,
     "metadata": {},
     "output_type": "execute_result"
    }
   ],
   "source": [
    "dict_mse_modified"
   ]
  },
  {
   "cell_type": "code",
   "execution_count": 48,
   "metadata": {},
   "outputs": [
    {
     "name": "stdout",
     "output_type": "stream",
     "text": [
      "MLP\n"
     ]
    },
    {
     "data": {
      "image/png": "[encoded data removed]",
      "text/plain": [
       "<Figure size 432x288 with 1 Axes>"
      ]
     },
     "metadata": {
      "needs_background": "light"
     },
     "output_type": "display_data"
    }
   ],
   "source": [
    "best_model = max(dict_mse_modified, key=dict_mse_modified.get)\n",
    "print(best_model)\n",
    "\n",
    "Series = [y_test,y_hat_modified[best_model]]\n",
    "xlabel = \"Test Values\"\n",
    "ylabel = \"Best Prediction\"\n",
    "title = \"Prediction vs Test values\"\n",
    "plot_xy(Series, xlabel, ylabel, title,kind=\"Scatter\")"
   ]
  },
  {
   "cell_type": "markdown",
   "metadata": {},
   "source": [
    "# GridSearch"
   ]
  },
  {
   "cell_type": "code",
   "execution_count": 49,
   "metadata": {},
   "outputs": [],
   "source": [
    "\n",
    "param_grid = {}\n",
    "n_splits = 5"
   ]
  },
  {
   "cell_type": "markdown",
   "metadata": {},
   "source": [
    "# MLP"
   ]
  },
  {
   "cell_type": "code",
   "execution_count": 50,
   "metadata": {},
   "outputs": [],
   "source": [
    "param_grid[\"MLP\"] = {\n",
    "    'hidden_layer_sizes':[(i,) for i in range(100,1000,100)],\n",
    "    'activation':['identity', 'tanh', 'relu'],\n",
    "    'solver':[\"adam\"],\n",
    "    'learning_rate':[\"adaptive\"],\n",
    "    'max_iter':[20000],\n",
    "    'early_stopping':[True],\n",
    "    'alpha':[10**(-i) for i in range(0,6)]\n",
    "    \n",
    "    }\n",
    "gkf = KFold(n_splits=n_splits, shuffle=True, random_state=42).split(X=X_train_modified, y=y_train_modified)\n",
    "MLP_GS = GridSearchCV(estimator=MLPRegressor(), param_grid=param_grid[\"MLP\"], cv=gkf,verbose=1)"
   ]
  },
  {
   "cell_type": "markdown",
   "metadata": {},
   "source": [
    "## LGBM"
   ]
  },
  {
   "cell_type": "code",
   "execution_count": 51,
   "metadata": {},
   "outputs": [],
   "source": [
    "param_grid[\"LGBM\"] = {\n",
    "    'boosting_type':[\"gbdt\"],\n",
    "    'max_depth': [-1],\n",
    "    'n_estimators':[2000],\n",
    "    'reg_alpha':[0],\n",
    "    'reg_lambda':[0],\n",
    "    'num_leaves':[i for i in range(2,100,2)],\n",
    "    'learning_rate':[10**(-i) for i in range(0,3)],\n",
    "    'subsample':[0.95],\n",
    "    'colsample_bytree':[0.95]\n",
    "    }\n",
    "gkf = KFold(n_splits=n_splits, shuffle=True, random_state=42).split(X=X_train_modified, y=y_train_modified)\n",
    "LGBM_GS = GridSearchCV(estimator=LGBMRegressor(), param_grid=param_grid[\"LGBM\"], cv=gkf,verbose=1)"
   ]
  },
  {
   "cell_type": "markdown",
   "metadata": {},
   "source": [
    "## Ridge"
   ]
  },
  {
   "cell_type": "code",
   "execution_count": 52,
   "metadata": {},
   "outputs": [],
   "source": [
    "param_grid[\"Ridge\"] = {\n",
    "    'alpha':[i/100 for i in range(1,100)]\n",
    "    }\n",
    "gkf = KFold(n_splits=n_splits, shuffle=True, random_state=42).split(X=X_train_modified, y=y_train_modified)\n",
    "Ridge_GS = GridSearchCV(estimator=Ridge(), param_grid=param_grid[\"Ridge\"], cv=gkf,verbose=1)"
   ]
  },
  {
   "cell_type": "markdown",
   "metadata": {},
   "source": [
    "## Lasso"
   ]
  },
  {
   "cell_type": "code",
   "execution_count": 53,
   "metadata": {},
   "outputs": [],
   "source": [
    "param_grid[\"Lasso\"] = {\n",
    "    'alpha':[i/100 for i in range(1,100)]\n",
    "    }\n",
    "gkf = KFold(n_splits=n_splits, shuffle=True, random_state=42).split(X=X_train_modified, y=y_train_modified)\n",
    "Lasso_GS = GridSearchCV(estimator=Lasso(), param_grid=param_grid[\"Lasso\"], cv=gkf,verbose=1)"
   ]
  },
  {
   "cell_type": "markdown",
   "metadata": {},
   "source": [
    "## Logistic regression"
   ]
  },
  {
   "cell_type": "code",
   "execution_count": null,
   "metadata": {},
   "outputs": [],
   "source": [
    "param_grid[\"ElasticNet\"] = {\n",
    "    'penalty':['l1','l2','elasticnet'],\n",
    "    'C':[i/10 for i in range(1,100)]\n",
    "    }\n",
    "gkf = KFold(n_splits=n_splits, shuffle=True, random_state=42).split(X=X_train_modified, y=y_train_modified)\n",
    "ElasticNet_GS = GridSearchCV(estimator=ElasticNet(), param_grid=param_grid[\"ElasticNet\"], cv=gkf,verbose=0)"
   ]
  },
  {
   "cell_type": "markdown",
   "metadata": {},
   "source": [
    "## ElasticNet"
   ]
  },
  {
   "cell_type": "code",
   "execution_count": 54,
   "metadata": {},
   "outputs": [],
   "source": [
    "param_grid[\"ElasticNet\"] = {\n",
    "    'alpha':[i/100 for i in range(1,100)],\n",
    "    'l1_ratio':[i/100 for i in range(1,100)]\n",
    "    }\n",
    "gkf = KFold(n_splits=n_splits, shuffle=True, random_state=42).split(X=X_train_modified, y=y_train_modified)\n",
    "ElasticNet_GS = GridSearchCV(estimator=ElasticNet(), param_grid=param_grid[\"ElasticNet\"], cv=gkf,verbose=0)"
   ]
  },
  {
   "cell_type": "code",
   "execution_count": 55,
   "metadata": {},
   "outputs": [],
   "source": [
    "models = {\"LGBM GS\":LGBM_GS,\n",
    "          \"Ridge GS\":Ridge_GS,\n",
    "          \"Lasso GS\":Lasso_GS,\n",
    "          \"ElasticNet GS\":ElasticNet_GS,\n",
    "          'MLP GS':MLP_GS\n",
    "         }\n",
    "\n",
    "\n"
   ]
  },
  {
   "cell_type": "code",
   "execution_count": 56,
   "metadata": {
    "scrolled": true
   },
   "outputs": [
    {
     "name": "stdout",
     "output_type": "stream",
     "text": [
      "Fitting 5 folds for each of 147 candidates, totalling 735 fits\n"
     ]
    },
    {
     "name": "stderr",
     "output_type": "stream",
     "text": [
      "[Parallel(n_jobs=1)]: Using backend SequentialBackend with 1 concurrent workers.\n",
      "[Parallel(n_jobs=1)]: Done 735 out of 735 | elapsed:  1.6min finished\n"
     ]
    },
    {
     "name": "stdout",
     "output_type": "stream",
     "text": [
      "{'boosting_type': 'gbdt', 'colsample_bytree': 0.95, 'learning_rate': 0.01, 'max_depth': -1, 'n_estimators': 2000, 'num_leaves': 2, 'reg_alpha': 0, 'reg_lambda': 0, 'subsample': 0.95}\n",
      "Fitting 5 folds for each of 99 candidates, totalling 495 fits\n"
     ]
    },
    {
     "name": "stderr",
     "output_type": "stream",
     "text": [
      "[Parallel(n_jobs=1)]: Using backend SequentialBackend with 1 concurrent workers.\n",
      "[Parallel(n_jobs=1)]: Done 495 out of 495 | elapsed:    0.6s finished\n",
      "[Parallel(n_jobs=1)]: Using backend SequentialBackend with 1 concurrent workers.\n"
     ]
    },
    {
     "name": "stdout",
     "output_type": "stream",
     "text": [
      "{'alpha': 0.99}\n",
      "Fitting 5 folds for each of 99 candidates, totalling 495 fits\n"
     ]
    },
    {
     "name": "stderr",
     "output_type": "stream",
     "text": [
      "[Parallel(n_jobs=1)]: Done 495 out of 495 | elapsed:    0.6s finished\n"
     ]
    },
    {
     "name": "stdout",
     "output_type": "stream",
     "text": [
      "{'alpha': 0.01}\n",
      "{'alpha': 0.04, 'l1_ratio': 0.01}\n",
      "Fitting 5 folds for each of 162 candidates, totalling 810 fits\n"
     ]
    },
    {
     "name": "stderr",
     "output_type": "stream",
     "text": [
      "[Parallel(n_jobs=1)]: Using backend SequentialBackend with 1 concurrent workers.\n"
     ]
    },
    {
     "name": "stdout",
     "output_type": "stream",
     "text": [
      "{'activation': 'identity', 'alpha': 0.001, 'early_stopping': True, 'hidden_layer_sizes': (100,), 'learning_rate': 'adaptive', 'max_iter': 20000, 'solver': 'adam'}\n"
     ]
    },
    {
     "name": "stderr",
     "output_type": "stream",
     "text": [
      "[Parallel(n_jobs=1)]: Done 810 out of 810 | elapsed:   28.6s finished\n"
     ]
    }
   ],
   "source": [
    "y_hat_modified, y_hat_modified_train = run_models(X_train_modified,\n",
    "                                                  y_train_modified,\n",
    "                                                  X_test_modified,\n",
    "                                                  y_test_modified,\n",
    "                                                  models,\n",
    "                                                  GS=True,\n",
    "                                                  y_hat=y_hat_modified,\n",
    "                                                  y_hat_train=y_hat_modified_train)\n",
    "for model_name in models.keys():\n",
    "    y_hat_modified[model_name] = destandardize(y_hat_modified[model_name],y_train)\n",
    "    y_hat_modified_train[model_name] = destandardize(y_hat_modified_train[model_name],y_train)\n",
    "dict_mse_modified=compute_mse(y_test,y_hat_modified,dict_mse=dict_mse_modified)\n",
    "dict_mse_modified_train=compute_mse(y_train,y_hat_modified_train,dict_mse=dict_mse_modified_train)"
   ]
  },
  {
   "cell_type": "markdown",
   "metadata": {},
   "source": [
    "# RESULTS"
   ]
  },
  {
   "cell_type": "code",
   "execution_count": 57,
   "metadata": {},
   "outputs": [
    {
     "data": {
      "text/plain": [
       "{'Linear': 0.3539809821660558,\n",
       " 'Ridge': 0.35395015731534585,\n",
       " 'Lasso': 0.0,\n",
       " 'Elastic Net': 0.0361915403982036,\n",
       " 'LGBM': 0.654329970439073,\n",
       " 'MLP': 0.4046467738356565,\n",
       " 'LGBM GS': 0.4412064321597229,\n",
       " 'Ridge GS': 0.3539507645100425,\n",
       " 'Lasso GS': 0.35382682650425323,\n",
       " 'ElasticNet GS': 0.3536085486927608,\n",
       " 'MLP GS': 0.3497043410880667}"
      ]
     },
     "execution_count": 57,
     "metadata": {},
     "output_type": "execute_result"
    }
   ],
   "source": [
    "dict_mse_modified_train"
   ]
  },
  {
   "cell_type": "code",
   "execution_count": 58,
   "metadata": {
    "scrolled": true
   },
   "outputs": [
    {
     "data": {
      "text/plain": [
       "{'Linear': 0.4378384660499379,\n",
       " 'Ridge': 0.43679514995041724,\n",
       " 'Lasso': -0.13849913663084612,\n",
       " 'Elastic Net': -0.09359841909776634,\n",
       " 'LGBM': 0.1323768429844172,\n",
       " 'MLP': 0.44051886616613023,\n",
       " 'LGBM GS': 0.3730638169860324,\n",
       " 'Ridge GS': 0.4368058739682189,\n",
       " 'Lasso GS': 0.43359126511816426,\n",
       " 'ElasticNet GS': 0.4337849241613826,\n",
       " 'MLP GS': 0.40368610169289865}"
      ]
     },
     "execution_count": 58,
     "metadata": {},
     "output_type": "execute_result"
    }
   ],
   "source": [
    "dict_mse_modified"
   ]
  },
  {
   "cell_type": "code",
   "execution_count": 59,
   "metadata": {},
   "outputs": [
    {
     "name": "stdout",
     "output_type": "stream",
     "text": [
      "MLP\n"
     ]
    },
    {
     "data": {
      "image/png": "[encoded data removed]",
      "text/plain": [
       "<Figure size 432x288 with 1 Axes>"
      ]
     },
     "metadata": {
      "needs_background": "light"
     },
     "output_type": "display_data"
    }
   ],
   "source": [
    "best_model = max(dict_mse_modified, key=dict_mse_modified.get)\n",
    "print(best_model)\n",
    "Series = [y_test,y_hat_modified[best_model]]\n",
    "xlabel = \"Test Values\"\n",
    "ylabel = \"Best Prediction\"\n",
    "title = \"Prediction vs Test values\"\n",
    "plot_xy(Series, xlabel, ylabel, title,kind=\"Scatter\",same_xy=True)"
   ]
  },
  {
   "cell_type": "code",
   "execution_count": 91,
   "metadata": {},
   "outputs": [],
   "source": [
    "    "
   ]
  },
  {
   "cell_type": "code",
   "execution_count": 103,
   "metadata": {},
   "outputs": [],
   "source": [
    "param_grid_list = {\n",
    "    \"horizon\": [25,26,27],\n",
    "    \"agent\": [\"dueling_dqn\"],\n",
    "    \"memory\": [10000],\n",
    "    \"network\": [\"auto\"],\n",
    "    \"size\": [256],\n",
    "    \"depth\": [2],\n",
    "    \"exploration\": [0.05],\n",
    "    \"batch_size\": [32],\n",
    "    \"discount\": [0.1],\n",
    "    \"seed\": [124],\n",
    "    \"estimate_terminals\": [True],\n",
    "}\n",
    "\n",
    "lists = param_grid_list.values()"
   ]
  },
  {
   "cell_type": "code",
   "execution_count": 104,
   "metadata": {},
   "outputs": [],
   "source": [
    "param_combinations = list(itertools.product(*lists))\n",
    "total_param_combinations = len(param_combinations)"
   ]
  },
  {
   "cell_type": "code",
   "execution_count": 106,
   "metadata": {},
   "outputs": [
    {
     "data": {
      "text/plain": [
       "(25, 'dueling_dqn', 10000, 'auto', 256, 2, 0.05, 32, 0.1, 124, True)"
      ]
     },
     "execution_count": 106,
     "metadata": {},
     "output_type": "execute_result"
    }
   ],
   "source": [
    "param_combinations[0]"
   ]
  },
  {
   "cell_type": "code",
   "execution_count": null,
   "metadata": {},
   "outputs": [],
   "source": []
  }
 ],
 "metadata": {
  "kernelspec": {
   "display_name": "Python 3",
   "language": "python",
   "name": "python3"
  },
  "language_info": {
   "codemirror_mode": {
    "name": "ipython",
    "version": 3
   },
   "file_extension": ".py",
   "mimetype": "text/x-python",
   "name": "python",
   "nbconvert_exporter": "python",
   "pygments_lexer": "ipython3",
   "version": "3.7.5"
  }
 },
 "nbformat": 4,
 "nbformat_minor": 2
}
