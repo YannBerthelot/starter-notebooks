{
 "cells": [
  {
   "cell_type": "code",
   "execution_count": 1,
   "metadata": {},
   "outputs": [],
   "source": [
    "import os\n",
    "import pandas as pd\n",
    "import numpy as np\n",
    "import seaborn as sns \n",
    "\n",
    "\n",
    "from sklearn.neural_network import MLPRegressor\n",
    "from sklearn.linear_model import LinearRegression,Ridge,Lasso,ElasticNet\n",
    "from sklearn.metrics import mean_squared_error,r2_score\n",
    "from sklearn.model_selection import GridSearchCV,KFold,train_test_split\n",
    "from sklearn.datasets import load_diabetes,load_boston\n",
    "from lightgbm import LGBMRegressor\n",
    "\n",
    "import matplotlib.pyplot as plt\n",
    "from graph_utils import plot_multiple,plot_xy\n",
    "\n",
    "%matplotlib inline\n"
   ]
  },
  {
   "cell_type": "markdown",
   "metadata": {},
   "source": [
    "# DATA PREPARATION"
   ]
  },
  {
   "cell_type": "code",
   "execution_count": 2,
   "metadata": {},
   "outputs": [
    {
     "data": {
      "text/plain": [
       "<matplotlib.axes._subplots.AxesSubplot at 0x11a1e5d90>"
      ]
     },
     "execution_count": 2,
     "metadata": {},
     "output_type": "execute_result"
    },
    {
     "data": {
      "image/png": "[encoded data removed]",
      "text/plain": [
       "<Figure size 432x288 with 2 Axes>"
      ]
     },
     "metadata": {
      "needs_background": "light"
     },
     "output_type": "display_data"
    }
   ],
   "source": [
    "df = pd.DataFrame(load_boston().data, columns=load_boston().feature_names)\n",
    "df[\"target\"] = load_boston().target\n",
    "\n",
    "correlated_features = abs(df.corr()[\"target\"]).sort_values(ascending=False)\n",
    "\n",
    "correlated_features = correlated_features[correlated_features>0.6]\n",
    "\n",
    "df = df[correlated_features.keys()]\n",
    "\n",
    "sns.heatmap(df.corr(),annot=True)"
   ]
  },
  {
   "cell_type": "code",
   "execution_count": 3,
   "metadata": {},
   "outputs": [
    {
     "data": {
      "text/html": [
       "<div>\n",
       "<style scoped>\n",
       "    .dataframe tbody tr th:only-of-type {\n",
       "        vertical-align: middle;\n",
       "    }\n",
       "\n",
       "    .dataframe tbody tr th {\n",
       "        vertical-align: top;\n",
       "    }\n",
       "\n",
       "    .dataframe thead th {\n",
       "        text-align: right;\n",
       "    }\n",
       "</style>\n",
       "<table border=\"1\" class=\"dataframe\">\n",
       "  <thead>\n",
       "    <tr style=\"text-align: right;\">\n",
       "      <th></th>\n",
       "      <th>target</th>\n",
       "      <th>LSTAT</th>\n",
       "      <th>RM</th>\n",
       "    </tr>\n",
       "  </thead>\n",
       "  <tbody>\n",
       "    <tr>\n",
       "      <th>0</th>\n",
       "      <td>24.0</td>\n",
       "      <td>4.98</td>\n",
       "      <td>6.575</td>\n",
       "    </tr>\n",
       "    <tr>\n",
       "      <th>1</th>\n",
       "      <td>21.6</td>\n",
       "      <td>9.14</td>\n",
       "      <td>6.421</td>\n",
       "    </tr>\n",
       "    <tr>\n",
       "      <th>2</th>\n",
       "      <td>34.7</td>\n",
       "      <td>4.03</td>\n",
       "      <td>7.185</td>\n",
       "    </tr>\n",
       "    <tr>\n",
       "      <th>3</th>\n",
       "      <td>33.4</td>\n",
       "      <td>2.94</td>\n",
       "      <td>6.998</td>\n",
       "    </tr>\n",
       "    <tr>\n",
       "      <th>4</th>\n",
       "      <td>36.2</td>\n",
       "      <td>5.33</td>\n",
       "      <td>7.147</td>\n",
       "    </tr>\n",
       "    <tr>\n",
       "      <th>...</th>\n",
       "      <td>...</td>\n",
       "      <td>...</td>\n",
       "      <td>...</td>\n",
       "    </tr>\n",
       "    <tr>\n",
       "      <th>501</th>\n",
       "      <td>22.4</td>\n",
       "      <td>9.67</td>\n",
       "      <td>6.593</td>\n",
       "    </tr>\n",
       "    <tr>\n",
       "      <th>502</th>\n",
       "      <td>20.6</td>\n",
       "      <td>9.08</td>\n",
       "      <td>6.120</td>\n",
       "    </tr>\n",
       "    <tr>\n",
       "      <th>503</th>\n",
       "      <td>23.9</td>\n",
       "      <td>5.64</td>\n",
       "      <td>6.976</td>\n",
       "    </tr>\n",
       "    <tr>\n",
       "      <th>504</th>\n",
       "      <td>22.0</td>\n",
       "      <td>6.48</td>\n",
       "      <td>6.794</td>\n",
       "    </tr>\n",
       "    <tr>\n",
       "      <th>505</th>\n",
       "      <td>11.9</td>\n",
       "      <td>7.88</td>\n",
       "      <td>6.030</td>\n",
       "    </tr>\n",
       "  </tbody>\n",
       "</table>\n",
       "<p>506 rows × 3 columns</p>\n",
       "</div>"
      ],
      "text/plain": [
       "     target  LSTAT     RM\n",
       "0      24.0   4.98  6.575\n",
       "1      21.6   9.14  6.421\n",
       "2      34.7   4.03  7.185\n",
       "3      33.4   2.94  6.998\n",
       "4      36.2   5.33  7.147\n",
       "..      ...    ...    ...\n",
       "501    22.4   9.67  6.593\n",
       "502    20.6   9.08  6.120\n",
       "503    23.9   5.64  6.976\n",
       "504    22.0   6.48  6.794\n",
       "505    11.9   7.88  6.030\n",
       "\n",
       "[506 rows x 3 columns]"
      ]
     },
     "execution_count": 3,
     "metadata": {},
     "output_type": "execute_result"
    }
   ],
   "source": [
    "df"
   ]
  },
  {
   "cell_type": "code",
   "execution_count": 4,
   "metadata": {},
   "outputs": [],
   "source": [
    "file_path = None\n",
    "\n",
    "if not(file_path):\n",
    "    X = np.array(df.drop('target',axis=1))\n",
    "    y = np.array(df[\"target\"])\n",
    "else:\n",
    "    df = pd.read_csv(file_path,keep_default_na=False,na_values=\"\").drop(\"Unnamed: 0\",axis=1)"
   ]
  },
  {
   "cell_type": "code",
   "execution_count": 5,
   "metadata": {},
   "outputs": [
    {
     "data": {
      "text/plain": [
       "array([[4.98 , 6.575],\n",
       "       [9.14 , 6.421],\n",
       "       [4.03 , 7.185],\n",
       "       ...,\n",
       "       [5.64 , 6.976],\n",
       "       [6.48 , 6.794],\n",
       "       [7.88 , 6.03 ]])"
      ]
     },
     "execution_count": 5,
     "metadata": {},
     "output_type": "execute_result"
    }
   ],
   "source": [
    "X"
   ]
  },
  {
   "cell_type": "markdown",
   "metadata": {},
   "source": [
    "df = pd.DataFrame(X)\n",
    "\n",
    "for i in range(len(df.columns)-1):\n",
    "    name = str(df.columns[i])+\"_x_\"+str(df.columns[i+1])\n",
    "    df[name] = df[df.columns[i]] * df[df.columns[i+1]]\n",
    "\n",
    "X = np.array(df)"
   ]
  },
  {
   "cell_type": "code",
   "execution_count": 6,
   "metadata": {},
   "outputs": [
    {
     "name": "stdout",
     "output_type": "stream",
     "text": [
      "Train set size 101 Test set size 405\n"
     ]
    }
   ],
   "source": [
    "X_train, X_test, y_train, y_test = train_test_split(X, y, test_size=0.8, random_state=31)\n",
    "print('Train set size',X_train.shape[0],'Test set size',X_test.shape[0])"
   ]
  },
  {
   "cell_type": "code",
   "execution_count": 7,
   "metadata": {},
   "outputs": [],
   "source": [
    "def standardize(df,df_ref):\n",
    "    return (df - df_ref.mean())/df_ref.std(ddof=1)\n",
    "\n",
    "def destandardize(df,df_ref):\n",
    "    return (df * df_ref.std(ddof=1)) + df_ref.mean()\n",
    "\n",
    "X_train_t = np.transpose(X_train.copy())\n",
    "X_test_t = np.transpose(X_test.copy())\n",
    "\n",
    "for i,col in enumerate(X_train_t) :\n",
    "    X_test_t[i] = standardize(X_test_t[i], col)\n",
    "    X_train_t[i] = standardize(col, col)\n",
    "    \n",
    "X_train_modified = np.transpose(X_train_t)\n",
    "X_test_modified = np.transpose(X_test_t)\n",
    "\n",
    "y_train_modified = standardize(y_train,y_train)\n",
    "y_test_modified = standardize(y_test,y_train)"
   ]
  },
  {
   "cell_type": "markdown",
   "metadata": {},
   "source": [
    "# REGRESSIONS"
   ]
  },
  {
   "cell_type": "code",
   "execution_count": 12,
   "metadata": {},
   "outputs": [],
   "source": [
    "def train_model(model,X_train,y_train,X_test,y_test,GS=False):\n",
    "    reg = model.fit(np.array(X_train), y_train)\n",
    "    if GS:\n",
    "        print(model.best_params_)\n",
    "    for i in range(X_test.shape[0]):\n",
    "        y_hat_test = reg.predict(np.array(X_test))\n",
    "        y_hat_train = reg.predict(np.array(X_train))\n",
    "    return y_hat_test,y_hat_train\n",
    "\n",
    "def run_models(X_train,y_train,X_test,y_test,models,GS=False,y_hat=None,y_hat_train=None):\n",
    "    if not(y_hat):\n",
    "        y_hat = {}\n",
    "    if not(y_hat_train):\n",
    "        y_hat_train = {}\n",
    "    for model_name in models.keys():\n",
    "        y_hat[model_name],y_hat_train[model_name] = train_model(models[model_name],X_train,y_train,X_test,y_test,GS=GS)  \n",
    "\n",
    "    return y_hat,y_hat_train\n",
    "\n",
    "def compute_mse(y_test,y_hat,dict_mse=None):\n",
    "    if not(dict_mse):\n",
    "        dict_mse = {}\n",
    "    for model_name in models.keys():\n",
    "        dict_mse[model_name] = r2_score(np.array(y_test).reshape(-1,1),np.array(y_hat[model_name]))\n",
    "        \n",
    "    return dict_mse"
   ]
  },
  {
   "cell_type": "code",
   "execution_count": 13,
   "metadata": {},
   "outputs": [
    {
     "name": "stderr",
     "output_type": "stream",
     "text": [
      "/usr/local/lib/python3.7/site-packages/sklearn/neural_network/_multilayer_perceptron.py:571: ConvergenceWarning: Stochastic Optimizer: Maximum iterations (200) reached and the optimization hasn't converged yet.\n",
      "  % self.max_iter, ConvergenceWarning)\n"
     ]
    }
   ],
   "source": [
    "models = {\"Linear\":LinearRegression(),\n",
    "          \"Ridge\":Ridge(),\n",
    "          \"Lasso\":Lasso(),\n",
    "          \"Elastic Net\":ElasticNet(),\n",
    "          \"LGBM\":LGBMRegressor(n_estimators=2000),\n",
    "          \"MLP\":MLPRegressor()}\n",
    "\n",
    "y_hat,y_hat_train = run_models(X_train,y_train,X_test,y_test,models)\n",
    "\n",
    "\n",
    "dict_mse=compute_mse(y_test,y_hat)\n",
    "dict_mse_train=compute_mse(y_train,y_hat_train)\n",
    "\n",
    "y_hat_modified,y_hat_modified_train = run_models(X_train_modified,y_train_modified,X_test_modified,y_test_modified,models)\n",
    "for model_name in models.keys():\n",
    "    y_hat_modified[model_name] = destandardize(y_hat_modified[model_name],y_train)\n",
    "    y_hat_modified_train[model_name] = destandardize(y_hat_modified_train[model_name],y_train)\n",
    "dict_mse_modified = compute_mse(y_test,y_hat_modified)\n",
    "dict_mse_modified_train = compute_mse(y_train,y_hat_modified_train)\n",
    "\n"
   ]
  },
  {
   "cell_type": "code",
   "execution_count": 14,
   "metadata": {},
   "outputs": [
    {
     "data": {
      "text/plain": [
       "{'Linear': 0.6102514734566671,\n",
       " 'Ridge': 0.6102017025722517,\n",
       " 'Lasso': 0.5897785778683429,\n",
       " 'Elastic Net': 0.5693400231073844,\n",
       " 'LGBM': 0.8214663263799964,\n",
       " 'MLP': 0.1551943397248825}"
      ]
     },
     "execution_count": 14,
     "metadata": {},
     "output_type": "execute_result"
    }
   ],
   "source": [
    "dict_mse_train"
   ]
  },
  {
   "cell_type": "code",
   "execution_count": 15,
   "metadata": {
    "scrolled": true
   },
   "outputs": [
    {
     "data": {
      "text/plain": [
       "{'Linear': 0.6331822426118376,\n",
       " 'Ridge': 0.6328087820735846,\n",
       " 'Lasso': 0.6139401228084282,\n",
       " 'Elastic Net': 0.5947074361717857,\n",
       " 'LGBM': 0.5898508155560114,\n",
       " 'MLP': 0.18260884198767868}"
      ]
     },
     "execution_count": 15,
     "metadata": {},
     "output_type": "execute_result"
    }
   ],
   "source": [
    "dict_mse"
   ]
  },
  {
   "cell_type": "code",
   "execution_count": 16,
   "metadata": {},
   "outputs": [
    {
     "name": "stdout",
     "output_type": "stream",
     "text": [
      "Linear\n"
     ]
    },
    {
     "data": {
      "image/png": "[encoded data removed]",
      "text/plain": [
       "<Figure size 432x288 with 1 Axes>"
      ]
     },
     "metadata": {
      "needs_background": "light"
     },
     "output_type": "display_data"
    }
   ],
   "source": [
    "best_model = max(dict_mse, key=dict_mse.get)\n",
    "print(best_model)\n",
    "\n",
    "Series = [y_test,y_hat[best_model]]\n",
    "xlabel = \"Test Values\"\n",
    "ylabel = \"Best Prediction\"\n",
    "title = \"Prediction vs Test values\"\n",
    "plot_xy(Series, xlabel, ylabel, title,kind=\"Scatter\")"
   ]
  },
  {
   "cell_type": "code",
   "execution_count": 17,
   "metadata": {},
   "outputs": [
    {
     "data": {
      "text/plain": [
       "{'Linear': 0.6102514734566671,\n",
       " 'Ridge': 0.6102247758360579,\n",
       " 'Lasso': 0.0,\n",
       " 'Elastic Net': 0.2189675074275541,\n",
       " 'LGBM': 0.8256757157057946,\n",
       " 'MLP': 0.7987602214901552}"
      ]
     },
     "execution_count": 17,
     "metadata": {},
     "output_type": "execute_result"
    }
   ],
   "source": [
    "dict_mse_modified_train"
   ]
  },
  {
   "cell_type": "code",
   "execution_count": 18,
   "metadata": {},
   "outputs": [
    {
     "data": {
      "text/plain": [
       "{'Linear': 0.6331822426118379,\n",
       " 'Ridge': 0.6344315767697946,\n",
       " 'Lasso': -0.008152647548153924,\n",
       " 'Elastic Net': 0.25444936134739105,\n",
       " 'LGBM': 0.5972569652950646,\n",
       " 'MLP': 0.7543938992523584}"
      ]
     },
     "execution_count": 18,
     "metadata": {},
     "output_type": "execute_result"
    }
   ],
   "source": [
    "dict_mse_modified"
   ]
  },
  {
   "cell_type": "code",
   "execution_count": 19,
   "metadata": {},
   "outputs": [
    {
     "name": "stdout",
     "output_type": "stream",
     "text": [
      "MLP\n"
     ]
    },
    {
     "data": {
      "image/png": "[encoded data removed]",
      "text/plain": [
       "<Figure size 432x288 with 1 Axes>"
      ]
     },
     "metadata": {
      "needs_background": "light"
     },
     "output_type": "display_data"
    }
   ],
   "source": [
    "best_model = max(dict_mse_modified, key=dict_mse_modified.get)\n",
    "print(best_model)\n",
    "\n",
    "Series = [y_test,y_hat_modified[best_model]]\n",
    "xlabel = \"Test Values\"\n",
    "ylabel = \"Best Prediction\"\n",
    "title = \"Prediction vs Test values\"\n",
    "plot_xy(Series, xlabel, ylabel, title,kind=\"Scatter\")"
   ]
  },
  {
   "cell_type": "markdown",
   "metadata": {},
   "source": [
    "# GridSearch"
   ]
  },
  {
   "cell_type": "code",
   "execution_count": 20,
   "metadata": {},
   "outputs": [],
   "source": [
    "\n",
    "param_grid = {}\n",
    "n_splits = 5"
   ]
  },
  {
   "cell_type": "markdown",
   "metadata": {},
   "source": [
    "# MLP"
   ]
  },
  {
   "cell_type": "code",
   "execution_count": 21,
   "metadata": {},
   "outputs": [],
   "source": [
    "param_grid[\"MLP\"] = {\n",
    "    'hidden_layer_sizes':[(i,) for i in range(100,1000,100)],\n",
    "    'activation':['identity', 'tanh', 'relu'],\n",
    "    'solver':[\"adam\"],\n",
    "    'learning_rate':[\"adaptive\"],\n",
    "    'max_iter':[20000],\n",
    "    'early_stopping':[True],\n",
    "    'alpha':[10**(-i) for i in range(0,6)]\n",
    "    \n",
    "    }\n",
    "gkf = KFold(n_splits=n_splits, shuffle=True, random_state=42).split(X=X_train_modified, y=y_train_modified)\n",
    "MLP_GS = GridSearchCV(estimator=MLPRegressor(), param_grid=param_grid[\"MLP\"], cv=gkf,verbose=1)"
   ]
  },
  {
   "cell_type": "markdown",
   "metadata": {},
   "source": [
    "## LGBM"
   ]
  },
  {
   "cell_type": "code",
   "execution_count": 22,
   "metadata": {},
   "outputs": [],
   "source": [
    "param_grid[\"LGBM\"] = {\n",
    "    'boosting_type':[\"gbdt\"],\n",
    "    'max_depth': [-1],\n",
    "    'n_estimators':[2000],\n",
    "    'reg_alpha':[0],\n",
    "    'reg_lambda':[0],\n",
    "    'num_leaves':[i for i in range(2,100,2)],\n",
    "    'learning_rate':[10**(-i) for i in range(0,3)],\n",
    "    'subsample':[0.95],\n",
    "    'colsample_bytree':[0.95]\n",
    "    }\n",
    "gkf = KFold(n_splits=n_splits, shuffle=True, random_state=42).split(X=X_train_modified, y=y_train_modified)\n",
    "LGBM_GS = GridSearchCV(estimator=LGBMRegressor(), param_grid=param_grid[\"LGBM\"], cv=gkf,verbose=1)"
   ]
  },
  {
   "cell_type": "markdown",
   "metadata": {},
   "source": [
    "## Ridge"
   ]
  },
  {
   "cell_type": "code",
   "execution_count": 23,
   "metadata": {},
   "outputs": [],
   "source": [
    "param_grid[\"Ridge\"] = {\n",
    "    'alpha':[i/100 for i in range(1,100)]\n",
    "    }\n",
    "gkf = KFold(n_splits=n_splits, shuffle=True, random_state=42).split(X=X_train_modified, y=y_train_modified)\n",
    "Ridge_GS = GridSearchCV(estimator=Ridge(), param_grid=param_grid[\"Ridge\"], cv=gkf,verbose=1)"
   ]
  },
  {
   "cell_type": "markdown",
   "metadata": {},
   "source": [
    "## Lasso"
   ]
  },
  {
   "cell_type": "code",
   "execution_count": 24,
   "metadata": {},
   "outputs": [],
   "source": [
    "param_grid[\"Lasso\"] = {\n",
    "    'alpha':[i/100 for i in range(1,100)]\n",
    "    }\n",
    "gkf = KFold(n_splits=n_splits, shuffle=True, random_state=42).split(X=X_train_modified, y=y_train_modified)\n",
    "Lasso_GS = GridSearchCV(estimator=Lasso(), param_grid=param_grid[\"Lasso\"], cv=gkf,verbose=1)"
   ]
  },
  {
   "cell_type": "markdown",
   "metadata": {},
   "source": [
    "## ElasticNet"
   ]
  },
  {
   "cell_type": "code",
   "execution_count": 25,
   "metadata": {},
   "outputs": [],
   "source": [
    "param_grid[\"ElasticNet\"] = {\n",
    "    'alpha':[i/100 for i in range(1,100)],\n",
    "    'l1_ratio':[i/100 for i in range(1,100)]\n",
    "    }\n",
    "gkf = KFold(n_splits=n_splits, shuffle=True, random_state=42).split(X=X_train_modified, y=y_train_modified)\n",
    "ElasticNet_GS = GridSearchCV(estimator=ElasticNet(), param_grid=param_grid[\"ElasticNet\"], cv=gkf,verbose=0)"
   ]
  },
  {
   "cell_type": "code",
   "execution_count": 26,
   "metadata": {},
   "outputs": [],
   "source": [
    "models = {\"LGBM GS\":LGBM_GS,\n",
    "          \"Ridge GS\":Ridge_GS,\n",
    "          \"Lasso GS\":Lasso_GS,\n",
    "          \"ElasticNet GS\":ElasticNet_GS,\n",
    "          'MLP GS':MLP_GS\n",
    "         }\n",
    "\n",
    "\n"
   ]
  },
  {
   "cell_type": "code",
   "execution_count": 27,
   "metadata": {
    "scrolled": true
   },
   "outputs": [
    {
     "name": "stdout",
     "output_type": "stream",
     "text": [
      "Fitting 5 folds for each of 147 candidates, totalling 735 fits\n"
     ]
    },
    {
     "name": "stderr",
     "output_type": "stream",
     "text": [
      "[Parallel(n_jobs=1)]: Using backend SequentialBackend with 1 concurrent workers.\n",
      "[Parallel(n_jobs=1)]: Done 735 out of 735 | elapsed:  1.7min finished\n"
     ]
    },
    {
     "name": "stdout",
     "output_type": "stream",
     "text": [
      "{'boosting_type': 'gbdt', 'colsample_bytree': 0.95, 'learning_rate': 0.01, 'max_depth': -1, 'n_estimators': 2000, 'num_leaves': 4, 'reg_alpha': 0, 'reg_lambda': 0, 'subsample': 0.95}\n",
      "Fitting 5 folds for each of 99 candidates, totalling 495 fits\n"
     ]
    },
    {
     "name": "stderr",
     "output_type": "stream",
     "text": [
      "[Parallel(n_jobs=1)]: Using backend SequentialBackend with 1 concurrent workers.\n",
      "[Parallel(n_jobs=1)]: Done 495 out of 495 | elapsed:    0.6s finished\n",
      "[Parallel(n_jobs=1)]: Using backend SequentialBackend with 1 concurrent workers.\n"
     ]
    },
    {
     "name": "stdout",
     "output_type": "stream",
     "text": [
      "{'alpha': 0.99}\n",
      "Fitting 5 folds for each of 99 candidates, totalling 495 fits\n"
     ]
    },
    {
     "name": "stderr",
     "output_type": "stream",
     "text": [
      "[Parallel(n_jobs=1)]: Done 495 out of 495 | elapsed:    0.6s finished\n"
     ]
    },
    {
     "name": "stdout",
     "output_type": "stream",
     "text": [
      "{'alpha': 0.08}\n",
      "{'alpha': 0.3, 'l1_ratio': 0.01}\n",
      "Fitting 5 folds for each of 81 candidates, totalling 405 fits\n"
     ]
    },
    {
     "name": "stderr",
     "output_type": "stream",
     "text": [
      "[Parallel(n_jobs=1)]: Using backend SequentialBackend with 1 concurrent workers.\n",
      "[Parallel(n_jobs=1)]: Done 405 out of 405 | elapsed:   25.7s finished\n"
     ]
    },
    {
     "name": "stdout",
     "output_type": "stream",
     "text": [
      "{'activation': 'relu', 'alpha': 0.0001, 'early_stopping': True, 'hidden_layer_sizes': (300,), 'learning_rate': 'adaptive', 'max_iter': 20000, 'solver': 'adam'}\n"
     ]
    }
   ],
   "source": [
    "y_hat_modified, y_hat_modified_train = run_models(X_train_modified,\n",
    "                                                  y_train_modified,\n",
    "                                                  X_test_modified,\n",
    "                                                  y_test_modified,\n",
    "                                                  models,\n",
    "                                                  GS=True,\n",
    "                                                  y_hat=y_hat_modified,\n",
    "                                                  y_hat_train=y_hat_modified_train)\n",
    "for model_name in models.keys():\n",
    "    y_hat_modified[model_name] = destandardize(y_hat_modified[model_name],y_train)\n",
    "    y_hat_modified_train[model_name] = destandardize(y_hat_modified_train[model_name],y_train)\n",
    "dict_mse_modified=compute_mse(y_test,y_hat_modified,dict_mse=dict_mse_modified)\n",
    "dict_mse_modified_train=compute_mse(y_train,y_hat_modified_train,dict_mse=dict_mse_modified_train)"
   ]
  },
  {
   "cell_type": "markdown",
   "metadata": {},
   "source": [
    "# RESULTS"
   ]
  },
  {
   "cell_type": "code",
   "execution_count": 28,
   "metadata": {},
   "outputs": [
    {
     "data": {
      "text/plain": [
       "{'Linear': 0.6102514734566671,\n",
       " 'Ridge': 0.6102247758360579,\n",
       " 'Lasso': 0.0,\n",
       " 'Elastic Net': 0.2189675074275541,\n",
       " 'LGBM': 0.8256757157057946,\n",
       " 'MLP': 0.7987602214901552,\n",
       " 'LGBM GS': 0.7409210591977637,\n",
       " 'Ridge GS': 0.6102253032691977,\n",
       " 'Lasso GS': 0.6018064641163492,\n",
       " 'ElasticNet GS': 0.5929336373777689,\n",
       " 'MLP GS': 0.10998711793822558}"
      ]
     },
     "execution_count": 28,
     "metadata": {},
     "output_type": "execute_result"
    }
   ],
   "source": [
    "dict_mse_modified_train"
   ]
  },
  {
   "cell_type": "code",
   "execution_count": 29,
   "metadata": {
    "scrolled": true
   },
   "outputs": [
    {
     "data": {
      "text/plain": [
       "{'Linear': 0.6331822426118379,\n",
       " 'Ridge': 0.6344315767697946,\n",
       " 'Lasso': -0.008152647548153924,\n",
       " 'Elastic Net': 0.25444936134739105,\n",
       " 'LGBM': 0.5972569652950646,\n",
       " 'MLP': 0.7543938992523584,\n",
       " 'LGBM GS': 0.6540640099339515,\n",
       " 'Ridge GS': 0.6344195745557779,\n",
       " 'Lasso GS': 0.6418690712508408,\n",
       " 'ElasticNet GS': 0.6404906188133108,\n",
       " 'MLP GS': 0.21420631073562946}"
      ]
     },
     "execution_count": 29,
     "metadata": {},
     "output_type": "execute_result"
    }
   ],
   "source": [
    "dict_mse_modified"
   ]
  },
  {
   "cell_type": "code",
   "execution_count": 30,
   "metadata": {},
   "outputs": [
    {
     "name": "stdout",
     "output_type": "stream",
     "text": [
      "MLP\n"
     ]
    },
    {
     "data": {
      "image/png": "[encoded data removed]",
      "text/plain": [
       "<Figure size 432x288 with 1 Axes>"
      ]
     },
     "metadata": {
      "needs_background": "light"
     },
     "output_type": "display_data"
    }
   ],
   "source": [
    "best_model = max(dict_mse_modified, key=dict_mse_modified.get)\n",
    "print(best_model)\n",
    "Series = [y_test,y_hat_modified[best_model]]\n",
    "xlabel = \"Test Values\"\n",
    "ylabel = \"Best Prediction\"\n",
    "title = \"Prediction vs Test values\"\n",
    "plot_xy(Series, xlabel, ylabel, title,kind=\"Scatter\",same_xy=True)"
   ]
  },
  {
   "cell_type": "code",
   "execution_count": null,
   "metadata": {},
   "outputs": [],
   "source": []
  },
  {
   "cell_type": "code",
   "execution_count": null,
   "metadata": {},
   "outputs": [],
   "source": []
  }
 ],
 "metadata": {
  "kernelspec": {
   "display_name": "Python 3",
   "language": "python",
   "name": "python3"
  },
  "language_info": {
   "codemirror_mode": {
    "name": "ipython",
    "version": 3
   },
   "file_extension": ".py",
   "mimetype": "text/x-python",
   "name": "python",
   "nbconvert_exporter": "python",
   "pygments_lexer": "ipython3",
   "version": "3.7.5"
  }
 },
 "nbformat": 4,
 "nbformat_minor": 2
}
