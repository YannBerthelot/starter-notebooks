{
 "cells": [
  {
   "cell_type": "code",
   "execution_count": 1,
   "metadata": {},
   "outputs": [],
   "source": [
    "import os\n",
    "import pandas as pd\n",
    "import numpy as np\n",
    "import seaborn as sns \n",
    "\n",
    "\n",
    "from sklearn.neural_network import MLPClassifier\n",
    "from sklearn.linear_model import LogisticRegression,Ridge,Lasso,ElasticNet\n",
    "from sklearn.ensemble import RandomForestClassifier\n",
    "from sklearn.metrics import accuracy_score,f1_score\n",
    "from sklearn.model_selection import GridSearchCV,KFold,train_test_split\n",
    "from sklearn.datasets import load_iris\n",
    "from lightgbm import LGBMClassifier\n",
    "\n",
    "import matplotlib.pyplot as plt\n",
    "from graph_utils import plot_multiple,plot_xy\n",
    "\n",
    "%matplotlib inline\n"
   ]
  },
  {
   "cell_type": "markdown",
   "metadata": {},
   "source": [
    "# DATA PREPARATION"
   ]
  },
  {
   "cell_type": "code",
   "execution_count": 2,
   "metadata": {},
   "outputs": [
    {
     "data": {
      "text/plain": [
       "<matplotlib.axes._subplots.AxesSubplot at 0x12093e110>"
      ]
     },
     "execution_count": 2,
     "metadata": {},
     "output_type": "execute_result"
    },
    {
     "data": {
      "image/png": "[encoded data removed]",
      "text/plain": [
       "<Figure size 432x288 with 2 Axes>"
      ]
     },
     "metadata": {
      "needs_background": "light"
     },
     "output_type": "display_data"
    }
   ],
   "source": [
    "df = pd.DataFrame(load_iris().data, columns=load_iris().feature_names)\n",
    "df[\"target\"] = load_iris().target\n",
    "\n",
    "correlated_features = abs(df.corr()[\"target\"]).sort_values(ascending=False)\n",
    "\n",
    "correlated_features = correlated_features[correlated_features>0.5]\n",
    "\n",
    "df = df[correlated_features.keys()]\n",
    "\n",
    "sns.heatmap(df.corr(),annot=True)"
   ]
  },
  {
   "cell_type": "code",
   "execution_count": 3,
   "metadata": {},
   "outputs": [],
   "source": [
    "file_path = None\n",
    "\n",
    "if not(file_path):\n",
    "    X = np.array(df.drop('target',axis=1))\n",
    "    y = np.array(df[\"target\"])\n",
    "else:\n",
    "    df = pd.read_csv(file_path,keep_default_na=False,na_values=\"\").drop(\"Unnamed: 0\",axis=1)"
   ]
  },
  {
   "cell_type": "markdown",
   "metadata": {},
   "source": [
    "df = pd.DataFrame(X)\n",
    "\n",
    "for i in range(len(df.columns)-1):\n",
    "    name = str(df.columns[i])+\"_x_\"+str(df.columns[i+1])\n",
    "    df[name] = df[df.columns[i]] * df[df.columns[i+1]]\n",
    "\n",
    "X = np.array(df)"
   ]
  },
  {
   "cell_type": "code",
   "execution_count": 4,
   "metadata": {},
   "outputs": [
    {
     "name": "stdout",
     "output_type": "stream",
     "text": [
      "Train set size 105 Test set size 45\n"
     ]
    }
   ],
   "source": [
    "X_train, X_test, y_train, y_test = train_test_split(X, y, test_size=0.3, random_state=31)\n",
    "print('Train set size',X_train.shape[0],'Test set size',X_test.shape[0])"
   ]
  },
  {
   "cell_type": "code",
   "execution_count": 5,
   "metadata": {},
   "outputs": [],
   "source": [
    "def standardize(df,df_ref):\n",
    "    return (df - df_ref.mean())/df_ref.std(ddof=1)\n",
    "\n",
    "def destandardize(df,df_ref):\n",
    "    return (df * df_ref.std(ddof=1)) + df_ref.mean()\n",
    "\n",
    "X_train_t = np.transpose(X_train.copy())\n",
    "X_test_t = np.transpose(X_test.copy())\n",
    "\n",
    "for i,col in enumerate(X_train_t) :\n",
    "    X_test_t[i] = standardize(X_test_t[i], col)\n",
    "    X_train_t[i] = standardize(col, col)\n",
    "    \n",
    "X_train_modified = np.transpose(X_train_t)\n",
    "X_test_modified = np.transpose(X_test_t)\n",
    "\n",
    "y_train_modified = standardize(y_train,y_train)\n",
    "y_test_modified = standardize(y_test,y_train)"
   ]
  },
  {
   "cell_type": "markdown",
   "metadata": {},
   "source": [
    "# REGRESSIONS"
   ]
  },
  {
   "cell_type": "code",
   "execution_count": 6,
   "metadata": {},
   "outputs": [],
   "source": [
    "def train_model(model,X_train,y_train,X_test,y_test,GS=False):\n",
    "    reg = model.fit(np.array(X_train), y_train)\n",
    "    if GS:\n",
    "        print(model.best_params_)\n",
    "    for i in range(X_test.shape[0]):\n",
    "        y_hat_test = reg.predict(np.array(X_test))\n",
    "        y_hat_train = reg.predict(np.array(X_train))\n",
    "    return y_hat_test,y_hat_train\n",
    "\n",
    "def run_models(X_train,y_train,X_test,y_test,models,GS=False,y_hat=None,y_hat_train=None):\n",
    "    if not(y_hat):\n",
    "        y_hat = {}\n",
    "    if not(y_hat_train):\n",
    "        y_hat_train = {}\n",
    "    for model_name in models.keys():\n",
    "        print(model_name)\n",
    "        y_hat[model_name],y_hat_train[model_name] = train_model(models[model_name],X_train,y_train,X_test,y_test,GS=GS)  \n",
    "\n",
    "    return y_hat,y_hat_train\n",
    "\n",
    "def compute_mse(y_test,y_hat,dict_mse=None):\n",
    "    if not(dict_mse):\n",
    "        dict_mse = {}\n",
    "    for model_name in models.keys():\n",
    "        dict_mse[model_name] = accuracy_score(np.array(y_test).reshape(-1,1),np.array(np.round(y_hat[model_name])))\n",
    "        \n",
    "    return dict_mse"
   ]
  },
  {
   "cell_type": "code",
   "execution_count": 7,
   "metadata": {},
   "outputs": [
    {
     "name": "stdout",
     "output_type": "stream",
     "text": [
      "Logistic\n",
      "Ridge\n",
      "Lasso\n",
      "RandomForest\n",
      "Elastic Net\n",
      "LGBM\n",
      "MLP\n"
     ]
    },
    {
     "name": "stderr",
     "output_type": "stream",
     "text": [
      "/usr/local/lib/python3.7/site-packages/sklearn/neural_network/_multilayer_perceptron.py:571: ConvergenceWarning: Stochastic Optimizer: Maximum iterations (200) reached and the optimization hasn't converged yet.\n",
      "  % self.max_iter, ConvergenceWarning)\n"
     ]
    },
    {
     "name": "stdout",
     "output_type": "stream",
     "text": [
      "Logistic\n",
      "Ridge\n",
      "Lasso\n",
      "RandomForest\n",
      "Elastic Net\n",
      "LGBM\n",
      "MLP\n"
     ]
    },
    {
     "name": "stderr",
     "output_type": "stream",
     "text": [
      "/usr/local/lib/python3.7/site-packages/sklearn/neural_network/_multilayer_perceptron.py:571: ConvergenceWarning: Stochastic Optimizer: Maximum iterations (200) reached and the optimization hasn't converged yet.\n",
      "  % self.max_iter, ConvergenceWarning)\n"
     ]
    }
   ],
   "source": [
    "models = {\"Logistic\":LogisticRegression(),\n",
    "          \"Ridge\":Ridge(),\n",
    "          \"Lasso\":Lasso(),\n",
    "          'RandomForest':RandomForestClassifier(),\n",
    "          \"Elastic Net\":ElasticNet(),\n",
    "          \"LGBM\":LGBMClassifier(n_estimators=2000),\n",
    "          \"MLP\":MLPClassifier()\n",
    "          }\n",
    "\n",
    "y_hat,y_hat_train = run_models(X_train,y_train,X_test,y_test,models)\n",
    "\n",
    "\n",
    "dict_mse=compute_mse(y_test,y_hat)\n",
    "dict_mse_train=compute_mse(y_train,y_hat_train)\n",
    "\n",
    "y_hat_modified,y_hat_modified_train = run_models(X_train_modified,y_train,X_test_modified,y_test,models)\n",
    "dict_mse_modified = compute_mse(y_test,y_hat_modified)\n",
    "dict_mse_modified_train = compute_mse(y_train,y_hat_modified_train)\n",
    "\n"
   ]
  },
  {
   "cell_type": "code",
   "execution_count": 8,
   "metadata": {},
   "outputs": [
    {
     "data": {
      "text/plain": [
       "{'Logistic': 0.9809523809523809,\n",
       " 'Ridge': 0.9904761904761905,\n",
       " 'Lasso': 0.3047619047619048,\n",
       " 'RandomForest': 1.0,\n",
       " 'Elastic Net': 0.7523809523809524,\n",
       " 'LGBM': 1.0,\n",
       " 'MLP': 0.9428571428571428}"
      ]
     },
     "execution_count": 8,
     "metadata": {},
     "output_type": "execute_result"
    }
   ],
   "source": [
    "dict_mse_train"
   ]
  },
  {
   "cell_type": "code",
   "execution_count": 9,
   "metadata": {
    "scrolled": true
   },
   "outputs": [
    {
     "data": {
      "text/plain": [
       "{'Logistic': 0.9777777777777777,\n",
       " 'Ridge': 0.9777777777777777,\n",
       " 'Lasso': 0.4,\n",
       " 'RandomForest': 0.9555555555555556,\n",
       " 'Elastic Net': 0.7777777777777778,\n",
       " 'LGBM': 0.9555555555555556,\n",
       " 'MLP': 0.8444444444444444}"
      ]
     },
     "execution_count": 9,
     "metadata": {},
     "output_type": "execute_result"
    }
   ],
   "source": [
    "dict_mse"
   ]
  },
  {
   "cell_type": "code",
   "execution_count": 10,
   "metadata": {},
   "outputs": [
    {
     "data": {
      "text/plain": [
       "{'Logistic': 0.9619047619047619,\n",
       " 'Ridge': 0.9809523809523809,\n",
       " 'Lasso': 0.3047619047619048,\n",
       " 'RandomForest': 1.0,\n",
       " 'Elastic Net': 0.3047619047619048,\n",
       " 'LGBM': 1.0,\n",
       " 'MLP': 0.9619047619047619}"
      ]
     },
     "execution_count": 10,
     "metadata": {},
     "output_type": "execute_result"
    }
   ],
   "source": [
    "dict_mse_modified_train"
   ]
  },
  {
   "cell_type": "code",
   "execution_count": 11,
   "metadata": {},
   "outputs": [
    {
     "data": {
      "text/plain": [
       "{'Logistic': 0.9777777777777777,\n",
       " 'Ridge': 0.9777777777777777,\n",
       " 'Lasso': 0.4,\n",
       " 'RandomForest': 0.9555555555555556,\n",
       " 'Elastic Net': 0.4,\n",
       " 'LGBM': 0.9555555555555556,\n",
       " 'MLP': 0.9555555555555556}"
      ]
     },
     "execution_count": 11,
     "metadata": {},
     "output_type": "execute_result"
    }
   ],
   "source": [
    "dict_mse_modified"
   ]
  },
  {
   "cell_type": "markdown",
   "metadata": {},
   "source": [
    "# GridSearch"
   ]
  },
  {
   "cell_type": "code",
   "execution_count": 12,
   "metadata": {},
   "outputs": [],
   "source": [
    "\n",
    "param_grid = {}\n",
    "n_splits = 5"
   ]
  },
  {
   "cell_type": "markdown",
   "metadata": {},
   "source": [
    "# MLP"
   ]
  },
  {
   "cell_type": "code",
   "execution_count": 13,
   "metadata": {},
   "outputs": [],
   "source": [
    "param_grid[\"MLP\"] = {\n",
    "    'hidden_layer_sizes':[(i,) for i in range(100,1000,100)],\n",
    "    'activation':['identity', 'tanh', 'relu'],\n",
    "    'solver':[\"adam\"],\n",
    "    'learning_rate':[\"adaptive\"],\n",
    "    'max_iter':[2000],\n",
    "    'early_stopping':[True],\n",
    "    'alpha':[10**(-i) for i in range(0,6)]\n",
    "    \n",
    "    }\n",
    "gkf = KFold(n_splits=n_splits, shuffle=True, random_state=42).split(X=X_train_modified, y=y_train_modified)\n",
    "MLP_GS = GridSearchCV(estimator=MLPClassifier(), param_grid=param_grid[\"MLP\"], cv=gkf,verbose=1)"
   ]
  },
  {
   "cell_type": "markdown",
   "metadata": {},
   "source": [
    "## LGBM"
   ]
  },
  {
   "cell_type": "code",
   "execution_count": 14,
   "metadata": {},
   "outputs": [],
   "source": [
    "param_grid[\"LGBM\"] = {\n",
    "    'boosting_type':[\"gbdt\"],\n",
    "    'max_depth': [-1],\n",
    "    'n_estimators':[200],\n",
    "    'reg_alpha':[0],\n",
    "    'reg_lambda':[0],\n",
    "    'num_leaves':[i for i in range(2,100,2)],\n",
    "    'learning_rate':[10**(-i) for i in range(0,3)],\n",
    "    'subsample':[0.95],\n",
    "    'colsample_bytree':[0.95]\n",
    "    }\n",
    "gkf = KFold(n_splits=n_splits, shuffle=True, random_state=42).split(X=X_train_modified, y=y_train_modified)\n",
    "LGBM_GS = GridSearchCV(estimator=LGBMClassifier(), param_grid=param_grid[\"LGBM\"], cv=gkf,verbose=1)"
   ]
  },
  {
   "cell_type": "markdown",
   "metadata": {},
   "source": [
    "## Ridge"
   ]
  },
  {
   "cell_type": "code",
   "execution_count": 15,
   "metadata": {},
   "outputs": [],
   "source": [
    "param_grid[\"Ridge\"] = {\n",
    "    'alpha':[i/100 for i in range(1,100)]\n",
    "    }\n",
    "gkf = KFold(n_splits=n_splits, shuffle=True, random_state=42).split(X=X_train_modified, y=y_train_modified)\n",
    "Ridge_GS = GridSearchCV(estimator=Ridge(), param_grid=param_grid[\"Ridge\"], cv=gkf,verbose=1)"
   ]
  },
  {
   "cell_type": "markdown",
   "metadata": {},
   "source": [
    "## Lasso"
   ]
  },
  {
   "cell_type": "code",
   "execution_count": 16,
   "metadata": {},
   "outputs": [],
   "source": [
    "param_grid[\"Lasso\"] = {\n",
    "    'alpha':[i/100 for i in range(1,100)]\n",
    "    }\n",
    "gkf = KFold(n_splits=n_splits, shuffle=True, random_state=42).split(X=X_train_modified, y=y_train_modified)\n",
    "Lasso_GS = GridSearchCV(estimator=Lasso(), param_grid=param_grid[\"Lasso\"], cv=gkf,verbose=1)"
   ]
  },
  {
   "cell_type": "markdown",
   "metadata": {},
   "source": [
    "## ElasticNet"
   ]
  },
  {
   "cell_type": "code",
   "execution_count": 17,
   "metadata": {},
   "outputs": [],
   "source": [
    "param_grid[\"ElasticNet\"] = {\n",
    "    'alpha':[i/100 for i in range(1,100)],\n",
    "    'l1_ratio':[i/100 for i in range(1,100)]\n",
    "    }\n",
    "gkf = KFold(n_splits=n_splits, shuffle=True, random_state=42).split(X=X_train_modified, y=y_train)\n",
    "ElasticNet_GS = GridSearchCV(estimator=ElasticNet(), param_grid=param_grid[\"ElasticNet\"], cv=gkf,verbose=0)"
   ]
  },
  {
   "cell_type": "code",
   "execution_count": 18,
   "metadata": {},
   "outputs": [],
   "source": [
    "models = {\"LGBM GS\":LGBM_GS,\n",
    "          \"Ridge GS\":Ridge_GS,\n",
    "          \"Lasso GS\":Lasso_GS,\n",
    "          \"ElasticNet GS\":ElasticNet_GS,\n",
    "          'MLP GS':MLP_GS\n",
    "         }\n",
    "\n",
    "\n"
   ]
  },
  {
   "cell_type": "code",
   "execution_count": 19,
   "metadata": {
    "scrolled": true
   },
   "outputs": [
    {
     "name": "stdout",
     "output_type": "stream",
     "text": [
      "LGBM GS\n",
      "Fitting 5 folds for each of 147 candidates, totalling 735 fits\n"
     ]
    },
    {
     "name": "stderr",
     "output_type": "stream",
     "text": [
      "[Parallel(n_jobs=1)]: Using backend SequentialBackend with 1 concurrent workers.\n",
      "[Parallel(n_jobs=1)]: Done 735 out of 735 | elapsed: 10.2min finished\n"
     ]
    },
    {
     "name": "stdout",
     "output_type": "stream",
     "text": [
      "{'boosting_type': 'gbdt', 'colsample_bytree': 0.95, 'learning_rate': 1, 'max_depth': -1, 'n_estimators': 200, 'num_leaves': 4, 'reg_alpha': 0, 'reg_lambda': 0, 'subsample': 0.95}\n",
      "Ridge GS\n",
      "Fitting 5 folds for each of 99 candidates, totalling 495 fits\n"
     ]
    },
    {
     "name": "stderr",
     "output_type": "stream",
     "text": [
      "[Parallel(n_jobs=1)]: Using backend SequentialBackend with 1 concurrent workers.\n",
      "[Parallel(n_jobs=1)]: Done 495 out of 495 | elapsed:    2.2s finished\n",
      "[Parallel(n_jobs=1)]: Using backend SequentialBackend with 1 concurrent workers.\n"
     ]
    },
    {
     "name": "stdout",
     "output_type": "stream",
     "text": [
      "{'alpha': 0.01}\n",
      "Lasso GS\n",
      "Fitting 5 folds for each of 99 candidates, totalling 495 fits\n"
     ]
    },
    {
     "name": "stderr",
     "output_type": "stream",
     "text": [
      "[Parallel(n_jobs=1)]: Done 495 out of 495 | elapsed:    2.0s finished\n"
     ]
    },
    {
     "name": "stdout",
     "output_type": "stream",
     "text": [
      "{'alpha': 0.01}\n",
      "ElasticNet GS\n",
      "{'alpha': 0.01, 'l1_ratio': 0.01}\n",
      "MLP GS\n",
      "Fitting 5 folds for each of 162 candidates, totalling 810 fits\n"
     ]
    },
    {
     "name": "stderr",
     "output_type": "stream",
     "text": [
      "[Parallel(n_jobs=1)]: Using backend SequentialBackend with 1 concurrent workers.\n"
     ]
    },
    {
     "name": "stdout",
     "output_type": "stream",
     "text": [
      "{'activation': 'identity', 'alpha': 0.01, 'early_stopping': True, 'hidden_layer_sizes': (500,), 'learning_rate': 'adaptive', 'max_iter': 2000, 'solver': 'adam'}\n"
     ]
    },
    {
     "name": "stderr",
     "output_type": "stream",
     "text": [
      "[Parallel(n_jobs=1)]: Done 810 out of 810 | elapsed:   43.3s finished\n"
     ]
    }
   ],
   "source": [
    "y_hat_modified, y_hat_modified_train = run_models(X_train_modified,\n",
    "                                                  y_train,\n",
    "                                                  X_test_modified,\n",
    "                                                  y_test,\n",
    "                                                  models,\n",
    "                                                  GS=True,\n",
    "                                                  y_hat=y_hat_modified,\n",
    "                                                  y_hat_train=y_hat_modified_train)\n",
    "dict_mse_modified=compute_mse(y_test,y_hat_modified,dict_mse=dict_mse_modified)\n",
    "dict_mse_modified_train=compute_mse(y_train,y_hat_modified_train,dict_mse=dict_mse_modified_train)"
   ]
  },
  {
   "cell_type": "markdown",
   "metadata": {},
   "source": [
    "# RESULTS"
   ]
  },
  {
   "cell_type": "code",
   "execution_count": 20,
   "metadata": {},
   "outputs": [
    {
     "data": {
      "text/plain": [
       "{'Logistic': 0.9619047619047619,\n",
       " 'Ridge': 0.9809523809523809,\n",
       " 'Lasso': 0.3047619047619048,\n",
       " 'RandomForest': 1.0,\n",
       " 'Elastic Net': 0.3047619047619048,\n",
       " 'LGBM': 1.0,\n",
       " 'MLP': 0.9619047619047619,\n",
       " 'LGBM GS': 1.0,\n",
       " 'Ridge GS': 0.9809523809523809,\n",
       " 'Lasso GS': 0.9619047619047619,\n",
       " 'ElasticNet GS': 0.9809523809523809,\n",
       " 'MLP GS': 0.8}"
      ]
     },
     "execution_count": 20,
     "metadata": {},
     "output_type": "execute_result"
    }
   ],
   "source": [
    "dict_mse_modified_train"
   ]
  },
  {
   "cell_type": "code",
   "execution_count": 21,
   "metadata": {
    "scrolled": true
   },
   "outputs": [
    {
     "data": {
      "text/plain": [
       "{'Logistic': 0.9777777777777777,\n",
       " 'Ridge': 0.9777777777777777,\n",
       " 'Lasso': 0.4,\n",
       " 'RandomForest': 0.9555555555555556,\n",
       " 'Elastic Net': 0.4,\n",
       " 'LGBM': 0.9555555555555556,\n",
       " 'MLP': 0.9555555555555556,\n",
       " 'LGBM GS': 0.9777777777777777,\n",
       " 'Ridge GS': 0.9555555555555556,\n",
       " 'Lasso GS': 0.9777777777777777,\n",
       " 'ElasticNet GS': 0.9777777777777777,\n",
       " 'MLP GS': 0.6888888888888889}"
      ]
     },
     "execution_count": 21,
     "metadata": {},
     "output_type": "execute_result"
    }
   ],
   "source": [
    "dict_mse_modified"
   ]
  }
 ],
 "metadata": {
  "kernelspec": {
   "display_name": "Python 3",
   "language": "python",
   "name": "python3"
  },
  "language_info": {
   "codemirror_mode": {
    "name": "ipython",
    "version": 3
   },
   "file_extension": ".py",
   "mimetype": "text/x-python",
   "name": "python",
   "nbconvert_exporter": "python",
   "pygments_lexer": "ipython3",
   "version": "3.7.5"
  }
 },
 "nbformat": 4,
 "nbformat_minor": 2
}
